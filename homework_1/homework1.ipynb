{
 "cells": [
  {
   "cell_type": "raw",
   "source": [
    "\n",
    "Продукт – подписка на репетиторов по ЕГЭ. Аудитория может приобрести пакет уроков по разным предметам. Учеба проходит на онлайн-платформе по программам обучения с уклоном в конкретную область: можно решать задачки, смотреть лекции и заниматься с репетитором. В таблице есть следующие поля:\n",
    "\n",
    "- `program_name` – программа с уклоном в предметы (math&phys – математика и физика, russ&lit – русский и литература)\n",
    "- `performance` – успеваемость пользователя (от 0 до 1, где 1 = 100%)\n",
    "- `is_ege` – сдает ли пользователь ЕГЭ в этом году\n",
    "- `age` – возраст\n",
    "\n",
    "**Задачи**\n",
    "\n",
    "Мы еще не ставим гипотезы и не проверяем их. Зато уже можем описывать данные  и искать точки роста\n",
    "\n",
    "2. Сравните две программы по успеваемости:\n",
    "- входят ли `program_name` в один доверительный интервал по успеваемости (пересекаются ли доверительные интервалы между группами)\n",
    "- у какой группы `is_ege` разброс по средней успеваемости больше\n",
    "3. Предположите, какие выводы можно сделать на основе анализа"
   ],
   "metadata": {
    "collapsed": false,
    "pycharm": {
     "name": "#%% raw\n"
    }
   }
  },
  {
   "cell_type": "code",
   "execution_count": 1,
   "outputs": [],
   "source": [
    "import pandas as pd\n",
    "import numpy as np"
   ],
   "metadata": {
    "collapsed": false,
    "pycharm": {
     "name": "#%%\n"
    }
   }
  },
  {
   "cell_type": "code",
   "execution_count": 15,
   "outputs": [],
   "source": [
    "df = pd.read_csv(r'hw1.csv', sep=';', usecols=['program_name', 'performance', 'is_ege', 'age'])\n",
    "df.dtypes\n",
    "df['performance'] = df[['performance']].applymap(lambda x: float(x.replace(',','.')))\n"
   ],
   "metadata": {
    "collapsed": false,
    "pycharm": {
     "name": "#%%\n"
    }
   }
  },
  {
   "cell_type": "code",
   "execution_count": 16,
   "outputs": [
    {
     "data": {
      "text/plain": "program_name\nmath&phys    [0.6463634119361911, 0.7948476846709579]\nruss&lit     [0.7554203910309452, 0.8401063684743266]\nName: performance, dtype: object"
     },
     "execution_count": 16,
     "metadata": {},
     "output_type": "execute_result"
    }
   ],
   "source": [
    "# входят ли `program_name` в один доверительный интервал по успеваемости (пересекаются ли доверительные интервалы между группами)\n",
    "def calc_confident_interval(x, n=1.96):\n",
    "    ''' Calculate confident interval and return bourder of this interval'''\n",
    "    se = np.std(x) / np.sqrt(len(x))\n",
    "    return [np.mean(x) - n * se, np.mean(x) + n * se]\n",
    "\n",
    "df.groupby(by='program_name')['performance'].apply(calc_confident_interval)"
   ],
   "metadata": {
    "collapsed": false,
    "pycharm": {
     "name": "#%%\n"
    }
   }
  },
  {
   "cell_type": "markdown",
   "source": [
    "Да, доверительные интервалы пересекаются между группами"
   ],
   "metadata": {
    "collapsed": false,
    "pycharm": {
     "name": "#%% md\n"
    }
   }
  },
  {
   "cell_type": "code",
   "execution_count": 18,
   "outputs": [
    {
     "data": {
      "text/plain": "is_ege\nno     0.128912\nyes    0.090735\nName: performance, dtype: float64"
     },
     "execution_count": 18,
     "metadata": {},
     "output_type": "execute_result"
    }
   ],
   "source": [
    "#у какой группы `is_ege` разброс по средней успеваемости больше\n",
    "# так как мерой \"разброса\" является СКО, то его и надо рассчитать\n",
    "df.groupby(by='is_ege')['performance'].std()"
   ],
   "metadata": {
    "collapsed": false,
    "pycharm": {
     "name": "#%%\n"
    }
   }
  },
  {
   "cell_type": "markdown",
   "source": [
    "Разброс в средней успеваемости больше у группы is_ege=='no'"
   ],
   "metadata": {
    "collapsed": false,
    "pycharm": {
     "name": "#%% md\n"
    }
   }
  }
 ],
 "metadata": {
  "kernelspec": {
   "display_name": "Python 3",
   "language": "python",
   "name": "python3"
  },
  "language_info": {
   "codemirror_mode": {
    "name": "ipython",
    "version": 2
   },
   "file_extension": ".py",
   "mimetype": "text/x-python",
   "name": "python",
   "nbconvert_exporter": "python",
   "pygments_lexer": "ipython2",
   "version": "2.7.6"
  }
 },
 "nbformat": 4,
 "nbformat_minor": 0
}